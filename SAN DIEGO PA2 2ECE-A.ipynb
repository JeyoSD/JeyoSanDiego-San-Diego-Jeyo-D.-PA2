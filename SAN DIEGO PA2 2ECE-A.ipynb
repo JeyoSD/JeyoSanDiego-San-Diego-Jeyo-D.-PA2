{
 "cells": [
  {
   "cell_type": "markdown",
   "id": "29fe7982-6db1-4271-8fbb-d0b7a60c001a",
   "metadata": {},
   "source": [
    "# EXPERIMENT 2: Numerical Python "
   ]
  },
  {
   "cell_type": "markdown",
   "id": "20923e05-ed02-49b6-9b66-460551a2effb",
   "metadata": {},
   "source": [
    "### Normalization Problem:"
   ]
  },
  {
   "cell_type": "code",
   "execution_count": null,
   "id": "2bd693f8-2cf2-4b52-ad67-b9f852ca6fce",
   "metadata": {},
   "outputs": [],
   "source": [
    "#Create a random 5 x 5 ndarray and store it in variable X. Normalize X. Save your normalized ndarray as X_normalized.npy\n",
    "\n",
    "import numpy as np\n",
    "def main():\n",
    "    X = np.random.random((5,5))\n",
    "    mean = X.mean()\n",
    "    std = X.std()\n",
    "\n",
    "    print(\"Your randomized array is as follows: \")\n",
    "    print(X)\n",
    "\n",
    "    print(\"\\nYour mean is: \" + str(mean) + \", while your standard deviation is: \" + str(std) + \".\" + \"\\n\")\n",
    "    print(\"The normalized array is as follows: \")\n",
    "\n",
    "    X_normalized = ((X-mean)/std)\n",
    "\n",
    "    print(X_normalized)\n",
    "\n",
    "    np.save('X_normalized.npy', X_normalized)\n",
    "\n",
    "    print(\"\\nYour normalized array has been saved as 'X_normalized.npy', you may find it in your local disk.\")\n",
    "\n",
    "main()"
   ]
  },
  {
   "cell_type": "markdown",
   "id": "0539afb1-dd75-4210-a6b4-9ec07e543d44",
   "metadata": {},
   "source": [
    "### Normalization Problem Data:"
   ]
  },
  {
   "cell_type": "code",
   "execution_count": null,
   "id": "a2bb067a-64e1-486c-a763-51bfc3a7334d",
   "metadata": {},
   "outputs": [],
   "source": [
    "XNdata = np.load('X_normalized.npy')\n",
    "XNdata"
   ]
  },
  {
   "cell_type": "markdown",
   "id": "6cc9a236-aa4c-4d57-aa03-e19e7bc5845d",
   "metadata": {},
   "source": [
    "### Divisible by 3 Problem:"
   ]
  },
  {
   "cell_type": "code",
   "execution_count": null,
   "id": "bef1f5b7-1c56-42d5-95dc-4de698a5b45c",
   "metadata": {},
   "outputs": [],
   "source": [
    "#Create a 10x10 ndarray from the squares of the first 100 integers. \n",
    "#From this ndarray, determine all the elements that are divisible by 3. Save the result as div_by_3.npy\n",
    "\n",
    "import numpy as np\n",
    "def main():\n",
    "    Y = np.arange(1, 101)\n",
    "    Y_squared = (Y**2).reshape(10, 10)\n",
    "\n",
    "    is_divisible_by_3 = Y_squared % 3 == 0\n",
    "\n",
    "    div_by_3 = (Y_squared[is_divisible_by_3]).reshape(3,11)\n",
    "\n",
    "    print(\"Your initial 10x10 array of the squares of the first 100 integers is as follows: \")\n",
    "    print(Y_squared)\n",
    "\n",
    "    print(\"\\nThe integers divisible by 3 in the 10x10 array is as follows: \")\n",
    "    print(div_by_3)\n",
    "\n",
    "    np.save('div_by_3.npy', div_by_3)\n",
    "\n",
    "    print(\"\\nThe array of numbers divisible by three has been saved as 'div_by_3.npy', you may find it in your local disk.\")\n",
    "    \n",
    "main()"
   ]
  },
  {
   "cell_type": "markdown",
   "id": "00fcc0d5-b034-4ba1-9fdf-853f1587fc61",
   "metadata": {},
   "source": [
    "### Divisible by 3 Problem Data:"
   ]
  },
  {
   "cell_type": "code",
   "execution_count": null,
   "id": "efcb1569-9bfa-4813-b1d7-67df08ed981f",
   "metadata": {},
   "outputs": [],
   "source": [
    "DB3data = np.load('div_by_3.npy')\n",
    "DB3data"
   ]
  }
 ],
 "metadata": {
  "kernelspec": {
   "display_name": "Python [conda env:base] *",
   "language": "python",
   "name": "conda-base-py"
  },
  "language_info": {
   "codemirror_mode": {
    "name": "ipython",
    "version": 3
   },
   "file_extension": ".py",
   "mimetype": "text/x-python",
   "name": "python",
   "nbconvert_exporter": "python",
   "pygments_lexer": "ipython3",
   "version": "3.13.5"
  }
 },
 "nbformat": 4,
 "nbformat_minor": 5
}
