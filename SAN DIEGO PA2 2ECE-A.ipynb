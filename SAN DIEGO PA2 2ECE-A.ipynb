{
 "cells": [
  {
   "cell_type": "code",
   "execution_count": 6,
   "id": "30e8f871-1c14-4573-b762-eaa2630530b2",
   "metadata": {},
   "outputs": [
    {
     "name": "stdout",
     "output_type": "stream",
     "text": [
      "Your randomized array is as follows:\n",
      " [[0.15206009 0.66369802 0.86533987 0.45766037 0.59830395]\n",
      " [0.15450721 0.6472665  0.15987633 0.68321271 0.91216595]\n",
      " [0.04483608 0.23178494 0.22544633 0.79454958 0.81696265]\n",
      " [0.74500067 0.59008715 0.24927572 0.35723216 0.08680182]\n",
      " [0.19409815 0.90907851 0.29648924 0.53543562 0.56279653]]\n",
      "\n",
      "Your mean is: 0.47735864613575435, while your standard deviation is: 0.27651628652100035.\n",
      "\n",
      "The normalized array is as follows:\n",
      " [[-1.17641734  0.6738821   1.40310442 -0.07123731  0.43738943]\n",
      " [-1.16756751  0.61445877 -1.14815051  0.74445547  1.57244736]\n",
      " [-1.56418476 -0.88809854 -0.91102163  1.14709673  1.2281519 ]\n",
      " [ 0.96790692  0.40767401 -0.82484445 -0.43442823 -1.4124189 ]\n",
      " [-1.02438992  1.56128188 -0.65410039  0.21003092  0.30897958]]\n",
      "\n",
      "Your normalized array has been saved as 'X_normalized.npy', you may find it in your local disk.\n"
     ]
    }
   ],
   "source": [
    "import numpy as np #Imports the NumPy Library\n",
    "def main():\n",
    "    X = np.random.random((5,5)) #Generates a 5x5 array with randomized values\n",
    "    print(\"Your randomized array is as follows:\\n\", X) #Outputs the generated randomized array\n",
    "    mean = X.mean() #Finds the mean value of array X\n",
    "    std = X.std() #Finds the standard deviation of array X\n",
    "    print(\"\\nYour mean is: \" + str(mean) + \", while your standard deviation is: \" + str(std) + \".\" + \"\\n\") #Outputs the mean and standard deviation\n",
    "\n",
    "    X_normalized = ((X-mean)/std) #Solves for the normalized values of the array\n",
    "    print(\"The normalized array is as follows:\\n\", X_normalized) #Outputs the normalized values for the array\n",
    "\n",
    "    np.save('X_normalized.npy', X_normalized) #Saves the normalized values as X_normalized.npy\n",
    "\n",
    "    print(\"\\nYour normalized array has been saved as 'X_normalized.npy', you may find it in your local disk.\") #Outputs a message notifying the user of the saved file\n",
    "\n",
    "main()"
   ]
  },
  {
   "cell_type": "code",
   "execution_count": 5,
   "id": "2eab63e7-965f-442e-b49c-2f328182fd8d",
   "metadata": {},
   "outputs": [
    {
     "name": "stdout",
     "output_type": "stream",
     "text": [
      "Your initial 10x10 array of the squares of the first 100 integers is as follows:\n",
      " [[    1     4     9    16    25    36    49    64    81   100]\n",
      " [  121   144   169   196   225   256   289   324   361   400]\n",
      " [  441   484   529   576   625   676   729   784   841   900]\n",
      " [  961  1024  1089  1156  1225  1296  1369  1444  1521  1600]\n",
      " [ 1681  1764  1849  1936  2025  2116  2209  2304  2401  2500]\n",
      " [ 2601  2704  2809  2916  3025  3136  3249  3364  3481  3600]\n",
      " [ 3721  3844  3969  4096  4225  4356  4489  4624  4761  4900]\n",
      " [ 5041  5184  5329  5476  5625  5776  5929  6084  6241  6400]\n",
      " [ 6561  6724  6889  7056  7225  7396  7569  7744  7921  8100]\n",
      " [ 8281  8464  8649  8836  9025  9216  9409  9604  9801 10000]]\n",
      "\n",
      "The integers divisible by 3 in the 10x10 array is as follows:\n",
      " [[   9   36   81  144  225  324  441  576  729  900 1089]\n",
      " [1296 1521 1764 2025 2304 2601 2916 3249 3600 3969 4356]\n",
      " [4761 5184 5625 6084 6561 7056 7569 8100 8649 9216 9801]]\n",
      "\n",
      "The array of numbers divisible by three has been saved as 'div_by_3.npy', you may find it in your local disk.\n"
     ]
    }
   ],
   "source": [
    "import numpy as np #Imports the NumPy Library\n",
    "def main():\n",
    "    Y = np.arange(1, 101) #Generates an array with the values of 1 to 100\n",
    "    Y_squared = (Y**2).reshape(10, 10) #Squares all the values in the array and reshapes the array to a 10x10 shape\n",
    "\n",
    "    is_divisible_by_3 = Y_squared % 3 == 0 #Stores a condition for values that are divisible by 3 \n",
    "    div_by_3 = (Y_squared[is_divisible_by_3]).reshape(3,11) #Finds all values according to the condition and reshapes the array to 3x11\n",
    "\n",
    "    print(\"Your initial 10x10 array of the squares of the first 100 integers is as follows:\\n\", Y_squared) #Outputs the squared values of the initial array\n",
    "    print(\"\\nThe integers divisible by 3 in the 10x10 array is as follows:\\n\", div_by_3) #Outputs the array with values divisible by 3\n",
    "\n",
    "    np.save('div_by_3.npy', div_by_3) #Saves the div_by_3 array as 'div_by_3.npy' in the user's local directory\n",
    "\n",
    "    print(\"\\nThe array of numbers divisible by three has been saved as 'div_by_3.npy', you may find it in your local disk.\") #Outputs a message notifying the user of the saved file\n",
    "    \n",
    "main()"
   ]
  }
 ],
 "metadata": {
  "kernelspec": {
   "display_name": "Python 3 (ipykernel)",
   "language": "python",
   "name": "python3"
  },
  "language_info": {
   "codemirror_mode": {
    "name": "ipython",
    "version": 3
   },
   "file_extension": ".py",
   "mimetype": "text/x-python",
   "name": "python",
   "nbconvert_exporter": "python",
   "pygments_lexer": "ipython3",
   "version": "3.13.5"
  }
 },
 "nbformat": 4,
 "nbformat_minor": 5
}
