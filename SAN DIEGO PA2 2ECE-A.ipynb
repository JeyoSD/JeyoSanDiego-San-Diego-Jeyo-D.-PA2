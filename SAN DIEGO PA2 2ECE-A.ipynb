{
 "cells": [
  {
   "cell_type": "markdown",
   "id": "29fe7982-6db1-4271-8fbb-d0b7a60c001a",
   "metadata": {},
   "source": [
    "# EXPERIMENT 2: Numerical Python "
   ]
  },
  {
   "cell_type": "markdown",
   "id": "20923e05-ed02-49b6-9b66-460551a2effb",
   "metadata": {},
   "source": [
    "### Normalization Problem:"
   ]
  },
  {
   "cell_type": "code",
   "execution_count": 1,
   "id": "2bd693f8-2cf2-4b52-ad67-b9f852ca6fce",
   "metadata": {},
   "outputs": [
    {
     "name": "stdout",
     "output_type": "stream",
     "text": [
      "Your randomized array is as follows: \n",
      "[[0.34625599 0.53258442 0.40008595 0.2522471  0.97695886]\n",
      " [0.08949623 0.04628099 0.32207255 0.2592403  0.29501305]\n",
      " [0.55545339 0.40842219 0.71952345 0.92529775 0.32351042]\n",
      " [0.740912   0.12931278 0.89041697 0.3636591  0.29847436]\n",
      " [0.5218929  0.12136994 0.49916661 0.56265501 0.42395796]]\n",
      "\n",
      "Your mean is: 0.44017041078507857, while your standard deviation is: 0.250789390165924.\n",
      "\n",
      "The normalized array is as follows: \n",
      "[[-0.37447525  0.3684925  -0.15983314 -0.74932721  2.14039538]\n",
      " [-1.39828155 -1.57059842 -0.47090455 -0.72144243 -0.57880186]\n",
      " [ 0.45968046 -0.12659317  1.11389496  1.93440136 -0.46517114]\n",
      " [ 1.19917986 -1.23951669  1.79531741 -0.30508192 -0.56500019]\n",
      " [ 0.32586105 -1.27118803  0.235242    0.48839626 -0.06464569]]\n",
      "\n",
      "Your normalized array has been saved as 'X_normalized.npy', you may find it in your local disk.\n"
     ]
    }
   ],
   "source": [
    "#Create a random 5 x 5 ndarray and store it in variable X. Normalize X. Save your normalized ndarray as X_normalized.npy\n",
    "\n",
    "import numpy as np\n",
    "def main():\n",
    "    X = np.random.random((5,5))\n",
    "    mean = X.mean()\n",
    "    std = X.std()\n",
    "\n",
    "    print(\"Your randomized array is as follows: \")\n",
    "    print(str(X) + \"\\n\")\n",
    "\n",
    "    print(\"Your mean is: \" + str(mean) + \", while your standard deviation is: \" + str(std) + \".\" + \"\\n\")\n",
    "    print(\"The normalized array is as follows: \")\n",
    "\n",
    "    X_normalized = ((X-mean)/std)\n",
    "\n",
    "    print(X_normalized)\n",
    "\n",
    "    np.save('X_normalized.npy', X_normalized)\n",
    "\n",
    "    print(\"\\nYour normalized array has been saved as 'X_normalized.npy', you may find it in your local disk.\")\n",
    "\n",
    "main()"
   ]
  },
  {
   "cell_type": "markdown",
   "id": "0539afb1-dd75-4210-a6b4-9ec07e543d44",
   "metadata": {},
   "source": [
    "### Normalization Problem Data:"
   ]
  },
  {
   "cell_type": "code",
   "execution_count": 2,
   "id": "a2bb067a-64e1-486c-a763-51bfc3a7334d",
   "metadata": {},
   "outputs": [
    {
     "data": {
      "text/plain": [
       "array([[-0.37447525,  0.3684925 , -0.15983314, -0.74932721,  2.14039538],\n",
       "       [-1.39828155, -1.57059842, -0.47090455, -0.72144243, -0.57880186],\n",
       "       [ 0.45968046, -0.12659317,  1.11389496,  1.93440136, -0.46517114],\n",
       "       [ 1.19917986, -1.23951669,  1.79531741, -0.30508192, -0.56500019],\n",
       "       [ 0.32586105, -1.27118803,  0.235242  ,  0.48839626, -0.06464569]])"
      ]
     },
     "execution_count": 2,
     "metadata": {},
     "output_type": "execute_result"
    }
   ],
   "source": [
    "XNdata = np.load('X_normalized.npy')\n",
    "XNdata"
   ]
  },
  {
   "cell_type": "markdown",
   "id": "6cc9a236-aa4c-4d57-aa03-e19e7bc5845d",
   "metadata": {},
   "source": [
    "### Divisible by 3 Problem:"
   ]
  },
  {
   "cell_type": "code",
   "execution_count": 3,
   "id": "bef1f5b7-1c56-42d5-95dc-4de698a5b45c",
   "metadata": {},
   "outputs": [
    {
     "name": "stdout",
     "output_type": "stream",
     "text": [
      "Your initial 10x10 array of the squares of the first 100 integers is as follows: \n",
      "[[    1     4     9    16    25    36    49    64    81   100]\n",
      " [  121   144   169   196   225   256   289   324   361   400]\n",
      " [  441   484   529   576   625   676   729   784   841   900]\n",
      " [  961  1024  1089  1156  1225  1296  1369  1444  1521  1600]\n",
      " [ 1681  1764  1849  1936  2025  2116  2209  2304  2401  2500]\n",
      " [ 2601  2704  2809  2916  3025  3136  3249  3364  3481  3600]\n",
      " [ 3721  3844  3969  4096  4225  4356  4489  4624  4761  4900]\n",
      " [ 5041  5184  5329  5476  5625  5776  5929  6084  6241  6400]\n",
      " [ 6561  6724  6889  7056  7225  7396  7569  7744  7921  8100]\n",
      " [ 8281  8464  8649  8836  9025  9216  9409  9604  9801 10000]]\n",
      "\n",
      "The integers divisible by 3 in the 10x10 array is as follows: \n",
      "[[   9   36   81  144  225  324  441  576  729  900 1089]\n",
      " [1296 1521 1764 2025 2304 2601 2916 3249 3600 3969 4356]\n",
      " [4761 5184 5625 6084 6561 7056 7569 8100 8649 9216 9801]]\n",
      "\n",
      "The array of numbers divisible by 3 has been saved as 'div_by_3.npy', you may find it in your local disk.\n"
     ]
    }
   ],
   "source": [
    "#Create a 10x10 ndarray from the squares of the first 100 integers. \n",
    "#From this ndarray, determine all the elements that are divisible by 3. Save the result as div_by_3.npy\n",
    "\n",
    "import numpy as np\n",
    "def main():\n",
    "    Y = np.arange(1, 101)\n",
    "    Y_squared = (Y**2).reshape(10, 10)\n",
    "\n",
    "    is_divisible_by_3 = Y_squared % 3 == 0\n",
    "\n",
    "    div_by_3 = (Y_squared[is_divisible_by_3]).reshape(3,11)\n",
    "\n",
    "    print(\"Your initial 10x10 array of the squares of the first 100 integers is as follows: \")\n",
    "    print(str(Y_squared) + \"\\n\")\n",
    "\n",
    "    print(\"The integers divisible by 3 in the 10x10 array is as follows: \")\n",
    "    print(div_by_3)\n",
    "\n",
    "    np.save('div_by_3.npy', div_by_3)\n",
    "\n",
    "    print(\"\\nThe array of numbers divisible by 3 has been saved as 'div_by_3.npy', you may find it in your local disk.\")\n",
    "    \n",
    "main()"
   ]
  },
  {
   "cell_type": "markdown",
   "id": "00fcc0d5-b034-4ba1-9fdf-853f1587fc61",
   "metadata": {},
   "source": [
    "### Divisible by 3 Problem Data:"
   ]
  },
  {
   "cell_type": "code",
   "execution_count": 4,
   "id": "efcb1569-9bfa-4813-b1d7-67df08ed981f",
   "metadata": {},
   "outputs": [
    {
     "data": {
      "text/plain": [
       "array([[   9,   36,   81,  144,  225,  324,  441,  576,  729,  900, 1089],\n",
       "       [1296, 1521, 1764, 2025, 2304, 2601, 2916, 3249, 3600, 3969, 4356],\n",
       "       [4761, 5184, 5625, 6084, 6561, 7056, 7569, 8100, 8649, 9216, 9801]])"
      ]
     },
     "execution_count": 4,
     "metadata": {},
     "output_type": "execute_result"
    }
   ],
   "source": [
    "DB3data = np.load('div_by_3.npy')\n",
    "DB3data"
   ]
  }
 ],
 "metadata": {
  "kernelspec": {
   "display_name": "Python [conda env:base] *",
   "language": "python",
   "name": "conda-base-py"
  },
  "language_info": {
   "codemirror_mode": {
    "name": "ipython",
    "version": 3
   },
   "file_extension": ".py",
   "mimetype": "text/x-python",
   "name": "python",
   "nbconvert_exporter": "python",
   "pygments_lexer": "ipython3",
   "version": "3.13.5"
  }
 },
 "nbformat": 4,
 "nbformat_minor": 5
}
